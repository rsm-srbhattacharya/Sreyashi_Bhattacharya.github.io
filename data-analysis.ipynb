{
  "cells": [
    {
      "cell_type": "raw",
      "metadata": {},
      "source": [
        "---\n",
        "title: \"Data Analysis\"\n",
        "toc: true\n",
        "toc-location: left\n",
        "---"
      ],
      "id": "039a0f72"
    },
    {
      "cell_type": "markdown",
      "metadata": {},
      "source": [
        "This section covers various data analysis work I have done\n",
        "\n",
        "\n",
        "# Project-portfolio\n",
        "## CLV Prediction for Auto Insurance:\n",
        "This notebook focuses on predicting Customer Lifetime Value (CLV) for auto insurance clients, utilizing various models to analyze data. It includes visual exploratory data analysis, inferential statistics, and multiple final model assessments to optimize prediction accuracy. \n",
        "\n",
        "## Simulation for Decision Making and Optimization - Operations:\n",
        "This notebook details a complex decision-making scenario involving two potential product initiatives with varying cost structures and market potentials. Through simulation, it examines expected profits, cost distributions, pricing strategies, and the trade-offs a brand manager faces to achieve desired profit probabilities, enhancing decision-making in operations management.\n",
        "\n",
        "## Classification on Amazon SageMaker- Modelling:\n",
        "The notebook describes the setup and execution of a machine learning pipeline using XGBoost and Amazon SageMaker, focusing on model training, hyperparameter tuning, and deployment for real-time inference, including detailed code for each stage.\n",
        "\n",
        "## Classification on Amazon SageMaker - Inference:\n",
        "This notebook outlines the process of performing real-time inference using an XGBoost model deployed on Amazon SageMaker, detailing steps from exploratory data analysis, training with hyperparameter tuning, to evaluating and using the model for predicting salary categories.\n",
        "\n",
        "\n",
        "## Google Review Analyze Text:\n",
        "This extensive research project explores the use of various predictive modeling techniques to predict star ratings from the Google Local Dataset as part of a Recommender Systems course. The team employs regression techniques, latent factor models, classification, text-based classifiers, and sentiment analysis to determine the most effective approach. The study includes detailed exploratory data analysis, sentiment analysis of review texts, and the application of several predictive models, culminating in recommendations for similar analyses. The project emphasizes the predictive power of sentiment scores in star rating predictions, enhanced by additional data features and model complexities to refine accuracy and performance.\n",
        "\n",
        "\n",
        "[📥 Click here to download (IPYNB)](Google_review_analysis.ipynb){target=\"_blank\"}\n",
        "\n",
        "📌 **Embedded View:**\n",
        "```{embed}\n",
        "notebooks/Google_review_analysis.ipynb\n"
      ],
      "id": "458cf1a3"
    }
  ],
  "metadata": {
    "kernelspec": {
      "name": "python3",
      "language": "python",
      "display_name": "Python 3 (ipykernel)"
    }
  },
  "nbformat": 4,
  "nbformat_minor": 5
}